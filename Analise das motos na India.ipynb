{
 "cells": [
  {
   "cell_type": "markdown",
   "id": "16e4f53c",
   "metadata": {},
   "source": [
    "<hr>\n",
    "<br><br>\n",
    "    <h1 align=center><font size = 5>Exercício prático - Semana 2 (Quarta)\n",
    "    <br><br>&nbsp;&nbsp;&nbsp;&nbsp;&nbsp;&nbsp;&nbsp;\n",
    "    Análise das motos vendidas na India</font></h1>\n",
    "<br><br>"
   ]
  },
  {
   "cell_type": "markdown",
   "id": "d179c60a",
   "metadata": {},
   "source": [
    "#### Perguntas que iremos responder"
   ]
  },
  {
   "cell_type": "markdown",
   "id": "46d76930",
   "metadata": {},
   "source": [
    "- Qual o significado das variáveis do dataram?\n",
    "\n",
    "- Quais os tipos de variáveis você tem?\n",
    "\n",
    "- A base tem dados nulos?\n",
    "\n",
    "- O tipo das variáveis está certo?\n",
    "\n",
    "- Qual a moto mais cara? A moto mais cara é elétrica?\n",
    "\n",
    "- Qual moto é mais barata? Quais suas caracteristicas?\n",
    "\n",
    "- A maioria das motos da base de dados são elétricas ou a gasolina? Qual o percentual de motos a gasolina?\n",
    "\n",
    "- As motos são leves ou pesadas? A maioria das motos estão centradas em qual kg?\n",
    "\n",
    "- Há diferença de peso entre as motos do tipo elétrica e à gasolina?\n",
    "\n",
    "- Qual moto é a mais pesada?\n",
    "\n",
    "\n",
    "- Qual a tendencia da velocidade máxima das motos? Tem diferença entre as motos do tipo elétrica e à gasolina?\n",
    "\n",
    "- Qual moto tem a maior velocidade máxima?\n",
    "\n",
    "- Qual a tendência da quilometragem das motos? Tem diferença entre as motos do tipo elétrica e à gasolina?\n",
    "\n",
    "\n",
    "- Há diferença de preços entre motos elétricas e movidas a gasolina?\n",
    "\n",
    "- A velocidade máxima alcançada pela moto tem influência no preço?\n",
    "\n",
    "- O peso tem influência no preço?\n",
    "\n",
    "- O tipo da moto tem influência no preço?\n",
    "\n"
   ]
  },
  {
   "cell_type": "markdown",
   "id": "50259ed2",
   "metadata": {},
   "source": [
    "## 1. Preparação do ambiente <a id=\"1\"></a>\n"
   ]
  },
  {
   "cell_type": "markdown",
   "id": "62396678",
   "metadata": {},
   "source": [
    "<h4>1.1 Importação de bibliotecas:</h4><a id=\"11\"></a>\n"
   ]
  },
  {
   "cell_type": "code",
   "execution_count": 11,
   "id": "5dd51474",
   "metadata": {},
   "outputs": [],
   "source": [
    "import pandas as pd\n",
    "import matplotlib.pyplot as plt\n",
    "import seaborn as sns"
   ]
  },
  {
   "cell_type": "markdown",
   "id": "90486789",
   "metadata": {},
   "source": [
    "<h4>1.2 Leitura de dados:</h4> <a id=\"12\"></a>"
   ]
  },
  {
   "cell_type": "code",
   "execution_count": 12,
   "id": "d9c14d46",
   "metadata": {},
   "outputs": [
    {
     "data": {
      "text/html": [
       "<div>\n",
       "<style scoped>\n",
       "    .dataframe tbody tr th:only-of-type {\n",
       "        vertical-align: middle;\n",
       "    }\n",
       "\n",
       "    .dataframe tbody tr th {\n",
       "        vertical-align: top;\n",
       "    }\n",
       "\n",
       "    .dataframe thead th {\n",
       "        text-align: right;\n",
       "    }\n",
       "</style>\n",
       "<table border=\"1\" class=\"dataframe\">\n",
       "  <thead>\n",
       "    <tr style=\"text-align: right;\">\n",
       "      <th></th>\n",
       "      <th>model_name</th>\n",
       "      <th>price</th>\n",
       "      <th>CC</th>\n",
       "      <th>mileage</th>\n",
       "      <th>type_of_bike</th>\n",
       "      <th>weight_in_kg</th>\n",
       "      <th>links</th>\n",
       "      <th>acceleration_speed</th>\n",
       "      <th>top_speed</th>\n",
       "    </tr>\n",
       "  </thead>\n",
       "  <tbody>\n",
       "    <tr>\n",
       "      <th>0</th>\n",
       "      <td>Gravton Motors Quanta</td>\n",
       "      <td>99000</td>\n",
       "      <td>NaN</td>\n",
       "      <td>320.0</td>\n",
       "      <td>Electric Bike</td>\n",
       "      <td>100</td>\n",
       "      <td>https://www.carandbike.com/gravton-motors-bike...</td>\n",
       "      <td>4.2</td>\n",
       "      <td>70.0</td>\n",
       "    </tr>\n",
       "    <tr>\n",
       "      <th>1</th>\n",
       "      <td>Simple Energy One</td>\n",
       "      <td>109999</td>\n",
       "      <td>NaN</td>\n",
       "      <td>236.0</td>\n",
       "      <td>Electric Bike</td>\n",
       "      <td>110</td>\n",
       "      <td>https://www.carandbike.com/simple-energy-bikes...</td>\n",
       "      <td>3.6</td>\n",
       "      <td>100.0</td>\n",
       "    </tr>\n",
       "    <tr>\n",
       "      <th>2</th>\n",
       "      <td>Okaya Classiq</td>\n",
       "      <td>69900</td>\n",
       "      <td>NaN</td>\n",
       "      <td>200.0</td>\n",
       "      <td>Electric Bike</td>\n",
       "      <td>95</td>\n",
       "      <td>https://www.carandbike.com/okaya-bikes/classiq</td>\n",
       "      <td>NaN</td>\n",
       "      <td>25.0</td>\n",
       "    </tr>\n",
       "    <tr>\n",
       "      <th>3</th>\n",
       "      <td>Oben Electric Rorr</td>\n",
       "      <td>102999</td>\n",
       "      <td>NaN</td>\n",
       "      <td>200.0</td>\n",
       "      <td>Electric Bike</td>\n",
       "      <td>120</td>\n",
       "      <td>https://www.carandbike.com/oben-electric-bikes...</td>\n",
       "      <td>3.0</td>\n",
       "      <td>100.0</td>\n",
       "    </tr>\n",
       "    <tr>\n",
       "      <th>4</th>\n",
       "      <td>Ola Electric S1</td>\n",
       "      <td>85099</td>\n",
       "      <td>NaN</td>\n",
       "      <td>181.0</td>\n",
       "      <td>Electric Bike</td>\n",
       "      <td>121</td>\n",
       "      <td>https://www.carandbike.com/ola-electric-bikes/s1</td>\n",
       "      <td>2.9</td>\n",
       "      <td>116.0</td>\n",
       "    </tr>\n",
       "  </tbody>\n",
       "</table>\n",
       "</div>"
      ],
      "text/plain": [
       "              model_name   price  CC  mileage   type_of_bike  weight_in_kg  \\\n",
       "0  Gravton Motors Quanta   99000 NaN    320.0  Electric Bike           100   \n",
       "1      Simple Energy One  109999 NaN    236.0  Electric Bike           110   \n",
       "2          Okaya Classiq   69900 NaN    200.0  Electric Bike            95   \n",
       "3     Oben Electric Rorr  102999 NaN    200.0  Electric Bike           120   \n",
       "4        Ola Electric S1   85099 NaN    181.0  Electric Bike           121   \n",
       "\n",
       "                                               links  acceleration_speed  \\\n",
       "0  https://www.carandbike.com/gravton-motors-bike...                 4.2   \n",
       "1  https://www.carandbike.com/simple-energy-bikes...                 3.6   \n",
       "2     https://www.carandbike.com/okaya-bikes/classiq                 NaN   \n",
       "3  https://www.carandbike.com/oben-electric-bikes...                 3.0   \n",
       "4   https://www.carandbike.com/ola-electric-bikes/s1                 2.9   \n",
       "\n",
       "   top_speed  \n",
       "0       70.0  \n",
       "1      100.0  \n",
       "2       25.0  \n",
       "3      100.0  \n",
       "4      116.0  "
      ]
     },
     "execution_count": 12,
     "metadata": {},
     "output_type": "execute_result"
    }
   ],
   "source": [
    "df = pd.read_csv('bike_dataset.csv')\n",
    "df.head()"
   ]
  },
  {
   "cell_type": "markdown",
   "id": "3ea84743",
   "metadata": {},
   "source": [
    "<h4>1.3  Identificação de valores faltantes</h4> <a id=\"12\"></a>"
   ]
  },
  {
   "cell_type": "code",
   "execution_count": 13,
   "id": "c91ae79b",
   "metadata": {},
   "outputs": [
    {
     "data": {
      "text/html": [
       "<div>\n",
       "<style scoped>\n",
       "    .dataframe tbody tr th:only-of-type {\n",
       "        vertical-align: middle;\n",
       "    }\n",
       "\n",
       "    .dataframe tbody tr th {\n",
       "        vertical-align: top;\n",
       "    }\n",
       "\n",
       "    .dataframe thead th {\n",
       "        text-align: right;\n",
       "    }\n",
       "</style>\n",
       "<table border=\"1\" class=\"dataframe\">\n",
       "  <thead>\n",
       "    <tr style=\"text-align: right;\">\n",
       "      <th></th>\n",
       "      <th>index</th>\n",
       "      <th>colunas</th>\n",
       "      <th>tipo</th>\n",
       "      <th>Qtde valores NaN</th>\n",
       "      <th>% valores NaN</th>\n",
       "      <th>valores únicos por feature</th>\n",
       "    </tr>\n",
       "  </thead>\n",
       "  <tbody>\n",
       "    <tr>\n",
       "      <th>0</th>\n",
       "      <td>model_name</td>\n",
       "      <td>model_name</td>\n",
       "      <td>object</td>\n",
       "      <td>0</td>\n",
       "      <td>0.000000</td>\n",
       "      <td>361</td>\n",
       "    </tr>\n",
       "    <tr>\n",
       "      <th>1</th>\n",
       "      <td>price</td>\n",
       "      <td>price</td>\n",
       "      <td>int64</td>\n",
       "      <td>0</td>\n",
       "      <td>0.000000</td>\n",
       "      <td>344</td>\n",
       "    </tr>\n",
       "    <tr>\n",
       "      <th>2</th>\n",
       "      <td>CC</td>\n",
       "      <td>CC</td>\n",
       "      <td>float64</td>\n",
       "      <td>57</td>\n",
       "      <td>0.157895</td>\n",
       "      <td>129</td>\n",
       "    </tr>\n",
       "    <tr>\n",
       "      <th>3</th>\n",
       "      <td>mileage</td>\n",
       "      <td>mileage</td>\n",
       "      <td>float64</td>\n",
       "      <td>0</td>\n",
       "      <td>0.000000</td>\n",
       "      <td>110</td>\n",
       "    </tr>\n",
       "    <tr>\n",
       "      <th>4</th>\n",
       "      <td>type_of_bike</td>\n",
       "      <td>type_of_bike</td>\n",
       "      <td>object</td>\n",
       "      <td>0</td>\n",
       "      <td>0.000000</td>\n",
       "      <td>2</td>\n",
       "    </tr>\n",
       "    <tr>\n",
       "      <th>5</th>\n",
       "      <td>weight_in_kg</td>\n",
       "      <td>weight_in_kg</td>\n",
       "      <td>int64</td>\n",
       "      <td>0</td>\n",
       "      <td>0.000000</td>\n",
       "      <td>183</td>\n",
       "    </tr>\n",
       "    <tr>\n",
       "      <th>6</th>\n",
       "      <td>links</td>\n",
       "      <td>links</td>\n",
       "      <td>object</td>\n",
       "      <td>0</td>\n",
       "      <td>0.000000</td>\n",
       "      <td>361</td>\n",
       "    </tr>\n",
       "    <tr>\n",
       "      <th>7</th>\n",
       "      <td>acceleration_speed</td>\n",
       "      <td>acceleration_speed</td>\n",
       "      <td>float64</td>\n",
       "      <td>191</td>\n",
       "      <td>0.529086</td>\n",
       "      <td>70</td>\n",
       "    </tr>\n",
       "    <tr>\n",
       "      <th>8</th>\n",
       "      <td>top_speed</td>\n",
       "      <td>top_speed</td>\n",
       "      <td>float64</td>\n",
       "      <td>161</td>\n",
       "      <td>0.445983</td>\n",
       "      <td>66</td>\n",
       "    </tr>\n",
       "  </tbody>\n",
       "</table>\n",
       "</div>"
      ],
      "text/plain": [
       "                index             colunas     tipo  Qtde valores NaN  \\\n",
       "0          model_name          model_name   object                 0   \n",
       "1               price               price    int64                 0   \n",
       "2                  CC                  CC  float64                57   \n",
       "3             mileage             mileage  float64                 0   \n",
       "4        type_of_bike        type_of_bike   object                 0   \n",
       "5        weight_in_kg        weight_in_kg    int64                 0   \n",
       "6               links               links   object                 0   \n",
       "7  acceleration_speed  acceleration_speed  float64               191   \n",
       "8           top_speed           top_speed  float64               161   \n",
       "\n",
       "   % valores NaN  valores únicos por feature  \n",
       "0       0.000000                         361  \n",
       "1       0.000000                         344  \n",
       "2       0.157895                         129  \n",
       "3       0.000000                         110  \n",
       "4       0.000000                           2  \n",
       "5       0.000000                         183  \n",
       "6       0.000000                         361  \n",
       "7       0.529086                          70  \n",
       "8       0.445983                          66  "
      ]
     },
     "execution_count": 13,
     "metadata": {},
     "output_type": "execute_result"
    }
   ],
   "source": [
    "faltantes = pd.DataFrame({'colunas':df.columns, \n",
    "                      'tipo':df.dtypes,\n",
    "                      'Qtde valores NaN':df.isna().sum(),\n",
    "                      '% valores NaN':df.isna().sum()/df.shape[0],\n",
    "                      'valores únicos por feature':df.nunique()})\n",
    "faltantes = faltantes.reset_index()\n",
    "faltantes"
   ]
  },
  {
   "cell_type": "markdown",
   "id": "94a199d0",
   "metadata": {},
   "source": [
    "Temos variáveis do tipo Object(Strings), float (valores contínuos), int (valores inteiros)"
   ]
  },
  {
   "cell_type": "markdown",
   "id": "f1893c3c",
   "metadata": {},
   "source": [
    "A coluna 'acceleration_speed' está com 52% dos dados faltantes, já 'top_speed' está com 44% dos dados faltantes.\n",
    "Se excluirmos esses dados iremos perder muita informação, portanto vamos fazer um tratamento nesses dados"
   ]
  },
  {
   "cell_type": "markdown",
   "id": "138cd5c8",
   "metadata": {},
   "source": [
    "Como essas variáveis são do tipo float iremos preencher os valores faltantes com a média dos valores"
   ]
  },
  {
   "cell_type": "markdown",
   "id": "2a120756",
   "metadata": {},
   "source": [
    "<h4>1.4  Tratando valores faltantes</h4> <a id=\"12\"></a>"
   ]
  },
  {
   "cell_type": "code",
   "execution_count": 14,
   "id": "648eb79f",
   "metadata": {},
   "outputs": [],
   "source": [
    "mean_value = df['acceleration_speed'].mean()\n",
    "df['acceleration_speed'].fillna(value=mean_value, inplace=True)\n"
   ]
  },
  {
   "cell_type": "code",
   "execution_count": 15,
   "id": "f4fea242",
   "metadata": {},
   "outputs": [],
   "source": [
    "mean_value = df['top_speed'].mean()\n",
    "df['top_speed'].fillna(value=mean_value, inplace=True)\n"
   ]
  },
  {
   "cell_type": "code",
   "execution_count": 16,
   "id": "a2cc519e",
   "metadata": {},
   "outputs": [
    {
     "name": "stdout",
     "output_type": "stream",
     "text": [
      "<class 'pandas.core.frame.DataFrame'>\n",
      "RangeIndex: 361 entries, 0 to 360\n",
      "Data columns (total 9 columns):\n",
      " #   Column              Non-Null Count  Dtype  \n",
      "---  ------              --------------  -----  \n",
      " 0   model_name          361 non-null    object \n",
      " 1   price               361 non-null    int64  \n",
      " 2   CC                  304 non-null    float64\n",
      " 3   mileage             361 non-null    float64\n",
      " 4   type_of_bike        361 non-null    object \n",
      " 5   weight_in_kg        361 non-null    int64  \n",
      " 6   links               361 non-null    object \n",
      " 7   acceleration_speed  361 non-null    float64\n",
      " 8   top_speed           361 non-null    float64\n",
      "dtypes: float64(4), int64(2), object(3)\n",
      "memory usage: 25.5+ KB\n"
     ]
    }
   ],
   "source": [
    "df.info()"
   ]
  },
  {
   "cell_type": "markdown",
   "id": "bdb121f8",
   "metadata": {},
   "source": [
    "Todos os valores nulos foram tratados"
   ]
  },
  {
   "cell_type": "markdown",
   "id": "5ff1edf7",
   "metadata": {},
   "source": [
    "## 2. Análise descritiva e diagnóstica <a id=\"2\"></a>"
   ]
  },
  {
   "cell_type": "markdown",
   "id": "9cbd407b",
   "metadata": {},
   "source": [
    "- Qual a moto mais cara? A moto mais cara é elétrica?\n",
    "\n",
    "- Qual moto é mais barata? Quais suas caracteristicas?\n",
    "\n",
    "- A maioria das motos da base de dados são elétricas ou a gasolina? Qual o percentual de motos a gasolina?\n",
    "\n",
    "- As motos são leves ou pesadas? A maioria das motos estão centradas em qual kg?\n",
    "\n",
    "- Há diferença de peso entre as motos do tipo elétrica e à gasolina?\n",
    "\n",
    "- Qual moto é a mais pesada?\n",
    "\n",
    "\n",
    "- Qual a tendencia da velocidade máxima das motos? Tem diferença entre as motos do tipo elétrica e à gasolina?\n",
    "\n",
    "- Qual moto tem a maior velocidade máxima?\n",
    "\n",
    "- Qual a tendência da quilometragem das motos? Tem diferença entre as motos do tipo elétrica e à gasolina?\n",
    "\n",
    "\n",
    "- Há diferença de preços entre motos elétricas e movidas a gasolina?\n",
    "\n",
    "- A velocidade máxima alcançada pela moto tem influência no preço?\n",
    "\n",
    "- O peso tem influência no preço?\n",
    "\n",
    "- O tipo da moto tem influência no preço?\n",
    "\n"
   ]
  },
  {
   "cell_type": "code",
   "execution_count": 17,
   "id": "e531632c",
   "metadata": {},
   "outputs": [
    {
     "name": "stderr",
     "output_type": "stream",
     "text": [
      "/Users/lauradamaceno/opt/anaconda3/lib/python3.9/site-packages/seaborn/_decorators.py:36: FutureWarning: Pass the following variable as a keyword arg: x. From version 0.12, the only valid positional argument will be `data`, and passing other arguments without an explicit keyword will result in an error or misinterpretation.\n",
      "  warnings.warn(\n"
     ]
    },
    {
     "data": {
      "text/plain": [
       "<AxesSubplot:xlabel='type_of_bike', ylabel='count'>"
      ]
     },
     "execution_count": 17,
     "metadata": {},
     "output_type": "execute_result"
    },
    {
     "data": {
      "image/png": "[encoded data removed]",
      "text/plain": [
       "<Figure size 432x288 with 1 Axes>"
      ]
     },
     "metadata": {
      "needs_background": "light"
     },
     "output_type": "display_data"
    }
   ],
   "source": [
    "sns.countplot(df.type_of_bike)"
   ]
  },
  {
   "cell_type": "markdown",
   "id": "44af21c0",
   "metadata": {},
   "source": [
    "A maioria das motos são movidas a gasolina"
   ]
  },
  {
   "cell_type": "code",
   "execution_count": 18,
   "id": "187d9d9e",
   "metadata": {},
   "outputs": [
    {
     "data": {
      "text/plain": [
       "Petrol Bike      304\n",
       "Electric Bike     57\n",
       "Name: type_of_bike, dtype: int64"
      ]
     },
     "execution_count": 18,
     "metadata": {},
     "output_type": "execute_result"
    }
   ],
   "source": [
    "df.type_of_bike.value_counts()"
   ]
  },
  {
   "cell_type": "code",
   "execution_count": 23,
   "id": "97ca6711",
   "metadata": {},
   "outputs": [],
   "source": [
    "total_de_motos = df.shape[0]"
   ]
  },
  {
   "cell_type": "code",
   "execution_count": 22,
   "id": "8b0dad94",
   "metadata": {},
   "outputs": [],
   "source": [
    "total_de_motos_eletricas = df.type_of_bike.value_counts()[1]"
   ]
  },
  {
   "cell_type": "code",
   "execution_count": 24,
   "id": "5efc46a4",
   "metadata": {},
   "outputs": [],
   "source": [
    "total_de_motos_gasolina = df.type_of_bike.value_counts()[0]"
   ]
  },
  {
   "cell_type": "code",
   "execution_count": 26,
   "id": "84a02edd",
   "metadata": {},
   "outputs": [],
   "source": [
    "percentual_eletricas = (total_de_motos_eletricas*100)/total_de_motos\n",
    "percentual_gasolina = (total_de_motos_gasolina*100)/total_de_motos"
   ]
  },
  {
   "cell_type": "code",
   "execution_count": 27,
   "id": "40fb3c61",
   "metadata": {},
   "outputs": [
    {
     "name": "stdout",
     "output_type": "stream",
     "text": [
      "Porcentagem de motos elétricas é: 15.789473684210526\n"
     ]
    }
   ],
   "source": [
    "print(f\"Porcentagem de motos elétricas é: {percentual_eletricas}\")"
   ]
  },
  {
   "cell_type": "code",
   "execution_count": 28,
   "id": "97656e93",
   "metadata": {},
   "outputs": [
    {
     "name": "stdout",
     "output_type": "stream",
     "text": [
      "Porcentagem de motos a gasolina é: 84.21052631578948\n"
     ]
    }
   ],
   "source": [
    "print(f\"Porcentagem de motos a gasolina é: {percentual_gasolina}\")"
   ]
  },
  {
   "cell_type": "code",
   "execution_count": 29,
   "id": "7401c4bf",
   "metadata": {},
   "outputs": [
    {
     "data": {
      "text/plain": [
       "<AxesSubplot:xlabel='weight_in_kg', ylabel='Count'>"
      ]
     },
     "execution_count": 29,
     "metadata": {},
     "output_type": "execute_result"
    },
    {
     "data": {
      "image/png": "[encoded data removed]",
      "text/plain": [
       "<Figure size 432x288 with 1 Axes>"
      ]
     },
     "metadata": {
      "needs_background": "light"
     },
     "output_type": "display_data"
    }
   ],
   "source": [
    "sns.histplot(data = df.weight_in_kg, kde=True)\n"
   ]
  },
  {
   "cell_type": "markdown",
   "id": "b1ac9480",
   "metadata": {},
   "source": [
    "A maiora das motos tem peso entre 100 e 200 kg. Dando a entender que as motos costumam ser leves"
   ]
  },
  {
   "cell_type": "code",
   "execution_count": 35,
   "id": "ab80858f",
   "metadata": {},
   "outputs": [
    {
     "data": {
      "text/plain": [
       "<AxesSubplot:xlabel='weight_in_kg', ylabel='Count'>"
      ]
     },
     "execution_count": 35,
     "metadata": {},
     "output_type": "execute_result"
    },
    {
     "data": {
      "image/png": "[encoded data removed]",
      "text/plain": [
       "<Figure size 432x288 with 1 Axes>"
      ]
     },
     "metadata": {
      "needs_background": "light"
     },
     "output_type": "display_data"
    }
   ],
   "source": [
    "sns.histplot(data = df,x ='weight_in_kg',kde=True,hue='type_of_bike')\n"
   ]
  },
  {
   "cell_type": "markdown",
   "id": "78f917ba",
   "metadata": {},
   "source": [
    "Podemos perceber que há diferença entre os pesos das motos, quando elas são movidas a gasolina costumam ser mais pesadas. O peso fica centrado entre 100 até 200 kg.\n",
    "\n"
   ]
  },
  {
   "cell_type": "markdown",
   "id": "10f3b23e",
   "metadata": {},
   "source": [
    "Já motos do tipo elétricas são bem mais leves, pesando entre 50 e 100 kg."
   ]
  },
  {
   "cell_type": "code",
   "execution_count": 31,
   "id": "a38a1182",
   "metadata": {},
   "outputs": [
    {
     "data": {
      "text/html": [
       "<div>\n",
       "<style scoped>\n",
       "    .dataframe tbody tr th:only-of-type {\n",
       "        vertical-align: middle;\n",
       "    }\n",
       "\n",
       "    .dataframe tbody tr th {\n",
       "        vertical-align: top;\n",
       "    }\n",
       "\n",
       "    .dataframe thead th {\n",
       "        text-align: right;\n",
       "    }\n",
       "</style>\n",
       "<table border=\"1\" class=\"dataframe\">\n",
       "  <thead>\n",
       "    <tr style=\"text-align: right;\">\n",
       "      <th></th>\n",
       "      <th>model_name</th>\n",
       "      <th>price</th>\n",
       "      <th>CC</th>\n",
       "      <th>mileage</th>\n",
       "      <th>type_of_bike</th>\n",
       "      <th>weight_in_kg</th>\n",
       "      <th>links</th>\n",
       "      <th>acceleration_speed</th>\n",
       "      <th>top_speed</th>\n",
       "    </tr>\n",
       "  </thead>\n",
       "  <tbody>\n",
       "    <tr>\n",
       "      <th>339</th>\n",
       "      <td>Kawasaki Ninja H2R</td>\n",
       "      <td>7990000</td>\n",
       "      <td>998.0</td>\n",
       "      <td>15.0</td>\n",
       "      <td>Petrol Bike</td>\n",
       "      <td>216</td>\n",
       "      <td>https://www.carandbike.com/kawasaki-bikes/ninj...</td>\n",
       "      <td>4.193412</td>\n",
       "      <td>99.33865</td>\n",
       "    </tr>\n",
       "    <tr>\n",
       "      <th>338</th>\n",
       "      <td>Ducati 1299 Panigale</td>\n",
       "      <td>5182000</td>\n",
       "      <td>1285.0</td>\n",
       "      <td>15.0</td>\n",
       "      <td>Petrol Bike</td>\n",
       "      <td>190</td>\n",
       "      <td>https://www.carandbike.com/ducati-bikes/1299-p...</td>\n",
       "      <td>4.193412</td>\n",
       "      <td>99.33865</td>\n",
       "    </tr>\n",
       "    <tr>\n",
       "      <th>360</th>\n",
       "      <td>Harley-Davidson CVO Limited</td>\n",
       "      <td>4999000</td>\n",
       "      <td>1923.0</td>\n",
       "      <td>8.0</td>\n",
       "      <td>Petrol Bike</td>\n",
       "      <td>411</td>\n",
       "      <td>https://www.carandbike.com/harley-davidson-bik...</td>\n",
       "      <td>4.193412</td>\n",
       "      <td>99.33865</td>\n",
       "    </tr>\n",
       "    <tr>\n",
       "      <th>337</th>\n",
       "      <td>Indian Roadmaster Elite</td>\n",
       "      <td>4800000</td>\n",
       "      <td>1811.0</td>\n",
       "      <td>15.0</td>\n",
       "      <td>Petrol Bike</td>\n",
       "      <td>433</td>\n",
       "      <td>https://www.carandbike.com/indian-bikes/roadma...</td>\n",
       "      <td>4.193412</td>\n",
       "      <td>99.33865</td>\n",
       "    </tr>\n",
       "    <tr>\n",
       "      <th>310</th>\n",
       "      <td>BMW M 1000 RR</td>\n",
       "      <td>4200000</td>\n",
       "      <td>999.0</td>\n",
       "      <td>15.4</td>\n",
       "      <td>Petrol Bike</td>\n",
       "      <td>192</td>\n",
       "      <td>https://www.carandbike.com/bmw-bikes/m-1000-rr</td>\n",
       "      <td>4.193412</td>\n",
       "      <td>99.33865</td>\n",
       "    </tr>\n",
       "    <tr>\n",
       "      <th>...</th>\n",
       "      <td>...</td>\n",
       "      <td>...</td>\n",
       "      <td>...</td>\n",
       "      <td>...</td>\n",
       "      <td>...</td>\n",
       "      <td>...</td>\n",
       "      <td>...</td>\n",
       "      <td>...</td>\n",
       "      <td>...</td>\n",
       "    </tr>\n",
       "    <tr>\n",
       "      <th>34</th>\n",
       "      <td>Bajaj CT 100</td>\n",
       "      <td>40794</td>\n",
       "      <td>102.0</td>\n",
       "      <td>89.5</td>\n",
       "      <td>Petrol Bike</td>\n",
       "      <td>114</td>\n",
       "      <td>https://www.carandbike.com/bajaj-bikes/ct-100</td>\n",
       "      <td>3.300000</td>\n",
       "      <td>90.00000</td>\n",
       "    </tr>\n",
       "    <tr>\n",
       "      <th>45</th>\n",
       "      <td>Polarity Sport</td>\n",
       "      <td>40000</td>\n",
       "      <td>NaN</td>\n",
       "      <td>80.0</td>\n",
       "      <td>Electric Bike</td>\n",
       "      <td>55</td>\n",
       "      <td>https://www.carandbike.com/polarity-bikes/sport</td>\n",
       "      <td>4.193412</td>\n",
       "      <td>45.00000</td>\n",
       "    </tr>\n",
       "    <tr>\n",
       "      <th>87</th>\n",
       "      <td>Evolet Pony</td>\n",
       "      <td>39499</td>\n",
       "      <td>NaN</td>\n",
       "      <td>55.0</td>\n",
       "      <td>Electric Bike</td>\n",
       "      <td>82</td>\n",
       "      <td>https://www.carandbike.com/evolet-bikes/pony</td>\n",
       "      <td>4.193412</td>\n",
       "      <td>25.00000</td>\n",
       "    </tr>\n",
       "    <tr>\n",
       "      <th>108</th>\n",
       "      <td>Ampere V48</td>\n",
       "      <td>38719</td>\n",
       "      <td>NaN</td>\n",
       "      <td>45.0</td>\n",
       "      <td>Electric Bike</td>\n",
       "      <td>84</td>\n",
       "      <td>https://www.carandbike.com/ampere-bikes/v48</td>\n",
       "      <td>4.193412</td>\n",
       "      <td>25.00000</td>\n",
       "    </tr>\n",
       "    <tr>\n",
       "      <th>44</th>\n",
       "      <td>Polarity Executive</td>\n",
       "      <td>38000</td>\n",
       "      <td>NaN</td>\n",
       "      <td>80.0</td>\n",
       "      <td>Electric Bike</td>\n",
       "      <td>55</td>\n",
       "      <td>https://www.carandbike.com/polarity-bikes/exec...</td>\n",
       "      <td>4.193412</td>\n",
       "      <td>40.00000</td>\n",
       "    </tr>\n",
       "  </tbody>\n",
       "</table>\n",
       "<p>361 rows × 9 columns</p>\n",
       "</div>"
      ],
      "text/plain": [
       "                      model_name    price      CC  mileage   type_of_bike  \\\n",
       "339           Kawasaki Ninja H2R  7990000   998.0     15.0    Petrol Bike   \n",
       "338         Ducati 1299 Panigale  5182000  1285.0     15.0    Petrol Bike   \n",
       "360  Harley-Davidson CVO Limited  4999000  1923.0      8.0    Petrol Bike   \n",
       "337      Indian Roadmaster Elite  4800000  1811.0     15.0    Petrol Bike   \n",
       "310                BMW M 1000 RR  4200000   999.0     15.4    Petrol Bike   \n",
       "..                           ...      ...     ...      ...            ...   \n",
       "34                  Bajaj CT 100    40794   102.0     89.5    Petrol Bike   \n",
       "45                Polarity Sport    40000     NaN     80.0  Electric Bike   \n",
       "87                   Evolet Pony    39499     NaN     55.0  Electric Bike   \n",
       "108                   Ampere V48    38719     NaN     45.0  Electric Bike   \n",
       "44            Polarity Executive    38000     NaN     80.0  Electric Bike   \n",
       "\n",
       "     weight_in_kg                                              links  \\\n",
       "339           216  https://www.carandbike.com/kawasaki-bikes/ninj...   \n",
       "338           190  https://www.carandbike.com/ducati-bikes/1299-p...   \n",
       "360           411  https://www.carandbike.com/harley-davidson-bik...   \n",
       "337           433  https://www.carandbike.com/indian-bikes/roadma...   \n",
       "310           192     https://www.carandbike.com/bmw-bikes/m-1000-rr   \n",
       "..            ...                                                ...   \n",
       "34            114      https://www.carandbike.com/bajaj-bikes/ct-100   \n",
       "45             55    https://www.carandbike.com/polarity-bikes/sport   \n",
       "87             82       https://www.carandbike.com/evolet-bikes/pony   \n",
       "108            84        https://www.carandbike.com/ampere-bikes/v48   \n",
       "44             55  https://www.carandbike.com/polarity-bikes/exec...   \n",
       "\n",
       "     acceleration_speed  top_speed  \n",
       "339            4.193412   99.33865  \n",
       "338            4.193412   99.33865  \n",
       "360            4.193412   99.33865  \n",
       "337            4.193412   99.33865  \n",
       "310            4.193412   99.33865  \n",
       "..                  ...        ...  \n",
       "34             3.300000   90.00000  \n",
       "45             4.193412   45.00000  \n",
       "87             4.193412   25.00000  \n",
       "108            4.193412   25.00000  \n",
       "44             4.193412   40.00000  \n",
       "\n",
       "[361 rows x 9 columns]"
      ]
     },
     "execution_count": 31,
     "metadata": {},
     "output_type": "execute_result"
    }
   ],
   "source": [
    "df.sort_values(by='price',ascending=False)"
   ]
  },
  {
   "cell_type": "markdown",
   "id": "a6d1863a",
   "metadata": {},
   "source": [
    "A moto mais cara é a Kawasaki Ninja H2R com valor de 7990000, movida a gasolina com kilometragem de 15, velocidade máxima de 99.33 e aceleração de 4.19\n",
    "\n",
    "\n"
   ]
  },
  {
   "cell_type": "code",
   "execution_count": 36,
   "id": "e2431e0a",
   "metadata": {},
   "outputs": [
    {
     "data": {
      "text/html": [
       "<div>\n",
       "<style scoped>\n",
       "    .dataframe tbody tr th:only-of-type {\n",
       "        vertical-align: middle;\n",
       "    }\n",
       "\n",
       "    .dataframe tbody tr th {\n",
       "        vertical-align: top;\n",
       "    }\n",
       "\n",
       "    .dataframe thead th {\n",
       "        text-align: right;\n",
       "    }\n",
       "</style>\n",
       "<table border=\"1\" class=\"dataframe\">\n",
       "  <thead>\n",
       "    <tr style=\"text-align: right;\">\n",
       "      <th></th>\n",
       "      <th>model_name</th>\n",
       "      <th>price</th>\n",
       "      <th>CC</th>\n",
       "      <th>mileage</th>\n",
       "      <th>type_of_bike</th>\n",
       "      <th>weight_in_kg</th>\n",
       "      <th>links</th>\n",
       "      <th>acceleration_speed</th>\n",
       "      <th>top_speed</th>\n",
       "    </tr>\n",
       "  </thead>\n",
       "  <tbody>\n",
       "    <tr>\n",
       "      <th>339</th>\n",
       "      <td>Kawasaki Ninja H2R</td>\n",
       "      <td>7990000</td>\n",
       "      <td>998.0</td>\n",
       "      <td>15.0</td>\n",
       "      <td>Petrol Bike</td>\n",
       "      <td>216</td>\n",
       "      <td>https://www.carandbike.com/kawasaki-bikes/ninj...</td>\n",
       "      <td>4.193412</td>\n",
       "      <td>99.33865</td>\n",
       "    </tr>\n",
       "    <tr>\n",
       "      <th>338</th>\n",
       "      <td>Ducati 1299 Panigale</td>\n",
       "      <td>5182000</td>\n",
       "      <td>1285.0</td>\n",
       "      <td>15.0</td>\n",
       "      <td>Petrol Bike</td>\n",
       "      <td>190</td>\n",
       "      <td>https://www.carandbike.com/ducati-bikes/1299-p...</td>\n",
       "      <td>4.193412</td>\n",
       "      <td>99.33865</td>\n",
       "    </tr>\n",
       "    <tr>\n",
       "      <th>360</th>\n",
       "      <td>Harley-Davidson CVO Limited</td>\n",
       "      <td>4999000</td>\n",
       "      <td>1923.0</td>\n",
       "      <td>8.0</td>\n",
       "      <td>Petrol Bike</td>\n",
       "      <td>411</td>\n",
       "      <td>https://www.carandbike.com/harley-davidson-bik...</td>\n",
       "      <td>4.193412</td>\n",
       "      <td>99.33865</td>\n",
       "    </tr>\n",
       "    <tr>\n",
       "      <th>337</th>\n",
       "      <td>Indian Roadmaster Elite</td>\n",
       "      <td>4800000</td>\n",
       "      <td>1811.0</td>\n",
       "      <td>15.0</td>\n",
       "      <td>Petrol Bike</td>\n",
       "      <td>433</td>\n",
       "      <td>https://www.carandbike.com/indian-bikes/roadma...</td>\n",
       "      <td>4.193412</td>\n",
       "      <td>99.33865</td>\n",
       "    </tr>\n",
       "    <tr>\n",
       "      <th>310</th>\n",
       "      <td>BMW M 1000 RR</td>\n",
       "      <td>4200000</td>\n",
       "      <td>999.0</td>\n",
       "      <td>15.4</td>\n",
       "      <td>Petrol Bike</td>\n",
       "      <td>192</td>\n",
       "      <td>https://www.carandbike.com/bmw-bikes/m-1000-rr</td>\n",
       "      <td>4.193412</td>\n",
       "      <td>99.33865</td>\n",
       "    </tr>\n",
       "    <tr>\n",
       "      <th>351</th>\n",
       "      <td>Honda Gold Wing</td>\n",
       "      <td>3971822</td>\n",
       "      <td>1833.0</td>\n",
       "      <td>14.0</td>\n",
       "      <td>Petrol Bike</td>\n",
       "      <td>390</td>\n",
       "      <td>https://www.carandbike.com/honda-bikes/gold-wing</td>\n",
       "      <td>4.193412</td>\n",
       "      <td>99.33865</td>\n",
       "    </tr>\n",
       "    <tr>\n",
       "      <th>336</th>\n",
       "      <td>Indian Roadmaster</td>\n",
       "      <td>3900000</td>\n",
       "      <td>1811.0</td>\n",
       "      <td>15.0</td>\n",
       "      <td>Petrol Bike</td>\n",
       "      <td>421</td>\n",
       "      <td>https://www.carandbike.com/indian-bikes/roadma...</td>\n",
       "      <td>4.193412</td>\n",
       "      <td>99.33865</td>\n",
       "    </tr>\n",
       "    <tr>\n",
       "      <th>335</th>\n",
       "      <td>MV Agusta F4 RR</td>\n",
       "      <td>3883000</td>\n",
       "      <td>998.0</td>\n",
       "      <td>15.0</td>\n",
       "      <td>Petrol Bike</td>\n",
       "      <td>190</td>\n",
       "      <td>https://www.carandbike.com/mv-agusta-bikes/f4-rr</td>\n",
       "      <td>4.193412</td>\n",
       "      <td>99.33865</td>\n",
       "    </tr>\n",
       "    <tr>\n",
       "      <th>299</th>\n",
       "      <td>Indian Chieftain Elite</td>\n",
       "      <td>3800000</td>\n",
       "      <td>1811.0</td>\n",
       "      <td>18.0</td>\n",
       "      <td>Petrol Bike</td>\n",
       "      <td>388</td>\n",
       "      <td>https://www.carandbike.com/indian-bikes/chieft...</td>\n",
       "      <td>4.193412</td>\n",
       "      <td>99.33865</td>\n",
       "    </tr>\n",
       "    <tr>\n",
       "      <th>334</th>\n",
       "      <td>Kawasaki Ninja H2</td>\n",
       "      <td>3499000</td>\n",
       "      <td>998.0</td>\n",
       "      <td>15.0</td>\n",
       "      <td>Petrol Bike</td>\n",
       "      <td>238</td>\n",
       "      <td>https://www.carandbike.com/kawasaki-bikes/ninj...</td>\n",
       "      <td>4.193412</td>\n",
       "      <td>99.33865</td>\n",
       "    </tr>\n",
       "  </tbody>\n",
       "</table>\n",
       "</div>"
      ],
      "text/plain": [
       "                      model_name    price      CC  mileage type_of_bike  \\\n",
       "339           Kawasaki Ninja H2R  7990000   998.0     15.0  Petrol Bike   \n",
       "338         Ducati 1299 Panigale  5182000  1285.0     15.0  Petrol Bike   \n",
       "360  Harley-Davidson CVO Limited  4999000  1923.0      8.0  Petrol Bike   \n",
       "337      Indian Roadmaster Elite  4800000  1811.0     15.0  Petrol Bike   \n",
       "310                BMW M 1000 RR  4200000   999.0     15.4  Petrol Bike   \n",
       "351              Honda Gold Wing  3971822  1833.0     14.0  Petrol Bike   \n",
       "336            Indian Roadmaster  3900000  1811.0     15.0  Petrol Bike   \n",
       "335              MV Agusta F4 RR  3883000   998.0     15.0  Petrol Bike   \n",
       "299       Indian Chieftain Elite  3800000  1811.0     18.0  Petrol Bike   \n",
       "334            Kawasaki Ninja H2  3499000   998.0     15.0  Petrol Bike   \n",
       "\n",
       "     weight_in_kg                                              links  \\\n",
       "339           216  https://www.carandbike.com/kawasaki-bikes/ninj...   \n",
       "338           190  https://www.carandbike.com/ducati-bikes/1299-p...   \n",
       "360           411  https://www.carandbike.com/harley-davidson-bik...   \n",
       "337           433  https://www.carandbike.com/indian-bikes/roadma...   \n",
       "310           192     https://www.carandbike.com/bmw-bikes/m-1000-rr   \n",
       "351           390   https://www.carandbike.com/honda-bikes/gold-wing   \n",
       "336           421  https://www.carandbike.com/indian-bikes/roadma...   \n",
       "335           190   https://www.carandbike.com/mv-agusta-bikes/f4-rr   \n",
       "299           388  https://www.carandbike.com/indian-bikes/chieft...   \n",
       "334           238  https://www.carandbike.com/kawasaki-bikes/ninj...   \n",
       "\n",
       "     acceleration_speed  top_speed  \n",
       "339            4.193412   99.33865  \n",
       "338            4.193412   99.33865  \n",
       "360            4.193412   99.33865  \n",
       "337            4.193412   99.33865  \n",
       "310            4.193412   99.33865  \n",
       "351            4.193412   99.33865  \n",
       "336            4.193412   99.33865  \n",
       "335            4.193412   99.33865  \n",
       "299            4.193412   99.33865  \n",
       "334            4.193412   99.33865  "
      ]
     },
     "execution_count": 36,
     "metadata": {},
     "output_type": "execute_result"
    }
   ],
   "source": [
    "df.sort_values(by='price',ascending=False)[:10]"
   ]
  },
  {
   "cell_type": "markdown",
   "id": "152cef40",
   "metadata": {},
   "source": [
    "Olhando para o top 10 das motos mais caras a maioria é movida a gasolina. Há correlação entre esses pontos?"
   ]
  },
  {
   "cell_type": "code",
   "execution_count": 37,
   "id": "c5f609d8",
   "metadata": {},
   "outputs": [
    {
     "data": {
      "text/html": [
       "<div>\n",
       "<style scoped>\n",
       "    .dataframe tbody tr th:only-of-type {\n",
       "        vertical-align: middle;\n",
       "    }\n",
       "\n",
       "    .dataframe tbody tr th {\n",
       "        vertical-align: top;\n",
       "    }\n",
       "\n",
       "    .dataframe thead th {\n",
       "        text-align: right;\n",
       "    }\n",
       "</style>\n",
       "<table border=\"1\" class=\"dataframe\">\n",
       "  <thead>\n",
       "    <tr style=\"text-align: right;\">\n",
       "      <th></th>\n",
       "      <th>model_name</th>\n",
       "      <th>price</th>\n",
       "      <th>CC</th>\n",
       "      <th>mileage</th>\n",
       "      <th>type_of_bike</th>\n",
       "      <th>weight_in_kg</th>\n",
       "      <th>links</th>\n",
       "      <th>acceleration_speed</th>\n",
       "      <th>top_speed</th>\n",
       "    </tr>\n",
       "  </thead>\n",
       "  <tbody>\n",
       "    <tr>\n",
       "      <th>44</th>\n",
       "      <td>Polarity Executive</td>\n",
       "      <td>38000</td>\n",
       "      <td>NaN</td>\n",
       "      <td>80.0</td>\n",
       "      <td>Electric Bike</td>\n",
       "      <td>55</td>\n",
       "      <td>https://www.carandbike.com/polarity-bikes/exec...</td>\n",
       "      <td>4.193412</td>\n",
       "      <td>40.0</td>\n",
       "    </tr>\n",
       "    <tr>\n",
       "      <th>108</th>\n",
       "      <td>Ampere V48</td>\n",
       "      <td>38719</td>\n",
       "      <td>NaN</td>\n",
       "      <td>45.0</td>\n",
       "      <td>Electric Bike</td>\n",
       "      <td>84</td>\n",
       "      <td>https://www.carandbike.com/ampere-bikes/v48</td>\n",
       "      <td>4.193412</td>\n",
       "      <td>25.0</td>\n",
       "    </tr>\n",
       "    <tr>\n",
       "      <th>87</th>\n",
       "      <td>Evolet Pony</td>\n",
       "      <td>39499</td>\n",
       "      <td>NaN</td>\n",
       "      <td>55.0</td>\n",
       "      <td>Electric Bike</td>\n",
       "      <td>82</td>\n",
       "      <td>https://www.carandbike.com/evolet-bikes/pony</td>\n",
       "      <td>4.193412</td>\n",
       "      <td>25.0</td>\n",
       "    </tr>\n",
       "    <tr>\n",
       "      <th>45</th>\n",
       "      <td>Polarity Sport</td>\n",
       "      <td>40000</td>\n",
       "      <td>NaN</td>\n",
       "      <td>80.0</td>\n",
       "      <td>Electric Bike</td>\n",
       "      <td>55</td>\n",
       "      <td>https://www.carandbike.com/polarity-bikes/sport</td>\n",
       "      <td>4.193412</td>\n",
       "      <td>45.0</td>\n",
       "    </tr>\n",
       "    <tr>\n",
       "      <th>34</th>\n",
       "      <td>Bajaj CT 100</td>\n",
       "      <td>40794</td>\n",
       "      <td>102.0</td>\n",
       "      <td>89.5</td>\n",
       "      <td>Petrol Bike</td>\n",
       "      <td>114</td>\n",
       "      <td>https://www.carandbike.com/bajaj-bikes/ct-100</td>\n",
       "      <td>3.300000</td>\n",
       "      <td>90.0</td>\n",
       "    </tr>\n",
       "    <tr>\n",
       "      <th>80</th>\n",
       "      <td>Lohia Omastar</td>\n",
       "      <td>40850</td>\n",
       "      <td>NaN</td>\n",
       "      <td>60.0</td>\n",
       "      <td>Electric Bike</td>\n",
       "      <td>66</td>\n",
       "      <td>https://www.carandbike.com/lohia-bikes/omastar</td>\n",
       "      <td>4.193412</td>\n",
       "      <td>25.0</td>\n",
       "    </tr>\n",
       "    <tr>\n",
       "      <th>64</th>\n",
       "      <td>TVS XL 100</td>\n",
       "      <td>40990</td>\n",
       "      <td>99.7</td>\n",
       "      <td>67.0</td>\n",
       "      <td>Petrol Bike</td>\n",
       "      <td>88</td>\n",
       "      <td>https://www.carandbike.com/tvs-bikes/xl-100</td>\n",
       "      <td>13.000000</td>\n",
       "      <td>60.0</td>\n",
       "    </tr>\n",
       "    <tr>\n",
       "      <th>88</th>\n",
       "      <td>Evolet Polo</td>\n",
       "      <td>44499</td>\n",
       "      <td>NaN</td>\n",
       "      <td>55.0</td>\n",
       "      <td>Electric Bike</td>\n",
       "      <td>82</td>\n",
       "      <td>https://www.carandbike.com/evolet-bikes/polo</td>\n",
       "      <td>4.193412</td>\n",
       "      <td>25.0</td>\n",
       "    </tr>\n",
       "    <tr>\n",
       "      <th>109</th>\n",
       "      <td>Ampere Reo</td>\n",
       "      <td>44838</td>\n",
       "      <td>NaN</td>\n",
       "      <td>45.0</td>\n",
       "      <td>Electric Bike</td>\n",
       "      <td>70</td>\n",
       "      <td>https://www.carandbike.com/ampere-bikes/reo</td>\n",
       "      <td>4.193412</td>\n",
       "      <td>25.0</td>\n",
       "    </tr>\n",
       "    <tr>\n",
       "      <th>41</th>\n",
       "      <td>Bounce Infinity E1</td>\n",
       "      <td>45099</td>\n",
       "      <td>NaN</td>\n",
       "      <td>83.0</td>\n",
       "      <td>Electric Bike</td>\n",
       "      <td>94</td>\n",
       "      <td>https://www.carandbike.com/bounce-bikes/infini...</td>\n",
       "      <td>8.000000</td>\n",
       "      <td>65.0</td>\n",
       "    </tr>\n",
       "  </tbody>\n",
       "</table>\n",
       "</div>"
      ],
      "text/plain": [
       "             model_name  price     CC  mileage   type_of_bike  weight_in_kg  \\\n",
       "44   Polarity Executive  38000    NaN     80.0  Electric Bike            55   \n",
       "108          Ampere V48  38719    NaN     45.0  Electric Bike            84   \n",
       "87          Evolet Pony  39499    NaN     55.0  Electric Bike            82   \n",
       "45       Polarity Sport  40000    NaN     80.0  Electric Bike            55   \n",
       "34         Bajaj CT 100  40794  102.0     89.5    Petrol Bike           114   \n",
       "80        Lohia Omastar  40850    NaN     60.0  Electric Bike            66   \n",
       "64           TVS XL 100  40990   99.7     67.0    Petrol Bike            88   \n",
       "88          Evolet Polo  44499    NaN     55.0  Electric Bike            82   \n",
       "109          Ampere Reo  44838    NaN     45.0  Electric Bike            70   \n",
       "41   Bounce Infinity E1  45099    NaN     83.0  Electric Bike            94   \n",
       "\n",
       "                                                 links  acceleration_speed  \\\n",
       "44   https://www.carandbike.com/polarity-bikes/exec...            4.193412   \n",
       "108        https://www.carandbike.com/ampere-bikes/v48            4.193412   \n",
       "87        https://www.carandbike.com/evolet-bikes/pony            4.193412   \n",
       "45     https://www.carandbike.com/polarity-bikes/sport            4.193412   \n",
       "34       https://www.carandbike.com/bajaj-bikes/ct-100            3.300000   \n",
       "80      https://www.carandbike.com/lohia-bikes/omastar            4.193412   \n",
       "64         https://www.carandbike.com/tvs-bikes/xl-100           13.000000   \n",
       "88        https://www.carandbike.com/evolet-bikes/polo            4.193412   \n",
       "109        https://www.carandbike.com/ampere-bikes/reo            4.193412   \n",
       "41   https://www.carandbike.com/bounce-bikes/infini...            8.000000   \n",
       "\n",
       "     top_speed  \n",
       "44        40.0  \n",
       "108       25.0  \n",
       "87        25.0  \n",
       "45        45.0  \n",
       "34        90.0  \n",
       "80        25.0  \n",
       "64        60.0  \n",
       "88        25.0  \n",
       "109       25.0  \n",
       "41        65.0  "
      ]
     },
     "execution_count": 37,
     "metadata": {},
     "output_type": "execute_result"
    }
   ],
   "source": [
    "df.sort_values(by='price',ascending=True)[:10]"
   ]
  },
  {
   "cell_type": "markdown",
   "id": "8dea0569",
   "metadata": {},
   "source": [
    "A moto mais barata é a Polarity Executive com preço de 38000, kilometragem de 80, peso de 55 kg, do tipo elétrica com velocidade máxima de 40, e aceleração de 4.19"
   ]
  },
  {
   "cell_type": "markdown",
   "id": "69582a72",
   "metadata": {},
   "source": [
    "Olhando para a lista de motos mais baratas podemos perceber que a velocidade máxima é bem baixa, alcançando no máximo 90. Há uma correlação?"
   ]
  },
  {
   "cell_type": "markdown",
   "id": "1211dafc",
   "metadata": {},
   "source": [
    "E a maioria delas é do tipo elétrica"
   ]
  },
  {
   "cell_type": "code",
   "execution_count": 40,
   "id": "ab5c1929",
   "metadata": {},
   "outputs": [
    {
     "data": {
      "text/html": [
       "<div>\n",
       "<style scoped>\n",
       "    .dataframe tbody tr th:only-of-type {\n",
       "        vertical-align: middle;\n",
       "    }\n",
       "\n",
       "    .dataframe tbody tr th {\n",
       "        vertical-align: top;\n",
       "    }\n",
       "\n",
       "    .dataframe thead th {\n",
       "        text-align: right;\n",
       "    }\n",
       "</style>\n",
       "<table border=\"1\" class=\"dataframe\">\n",
       "  <thead>\n",
       "    <tr style=\"text-align: right;\">\n",
       "      <th></th>\n",
       "      <th>model_name</th>\n",
       "      <th>price</th>\n",
       "      <th>CC</th>\n",
       "      <th>mileage</th>\n",
       "      <th>type_of_bike</th>\n",
       "      <th>weight_in_kg</th>\n",
       "      <th>links</th>\n",
       "      <th>acceleration_speed</th>\n",
       "      <th>top_speed</th>\n",
       "    </tr>\n",
       "  </thead>\n",
       "  <tbody>\n",
       "    <tr>\n",
       "      <th>337</th>\n",
       "      <td>Indian Roadmaster Elite</td>\n",
       "      <td>4800000</td>\n",
       "      <td>1811.0</td>\n",
       "      <td>15.0</td>\n",
       "      <td>Petrol Bike</td>\n",
       "      <td>433</td>\n",
       "      <td>https://www.carandbike.com/indian-bikes/roadma...</td>\n",
       "      <td>4.193412</td>\n",
       "      <td>99.33865</td>\n",
       "    </tr>\n",
       "    <tr>\n",
       "      <th>336</th>\n",
       "      <td>Indian Roadmaster</td>\n",
       "      <td>3900000</td>\n",
       "      <td>1811.0</td>\n",
       "      <td>15.0</td>\n",
       "      <td>Petrol Bike</td>\n",
       "      <td>421</td>\n",
       "      <td>https://www.carandbike.com/indian-bikes/roadma...</td>\n",
       "      <td>4.193412</td>\n",
       "      <td>99.33865</td>\n",
       "    </tr>\n",
       "    <tr>\n",
       "      <th>360</th>\n",
       "      <td>Harley-Davidson CVO Limited</td>\n",
       "      <td>4999000</td>\n",
       "      <td>1923.0</td>\n",
       "      <td>8.0</td>\n",
       "      <td>Petrol Bike</td>\n",
       "      <td>411</td>\n",
       "      <td>https://www.carandbike.com/harley-davidson-bik...</td>\n",
       "      <td>4.193412</td>\n",
       "      <td>99.33865</td>\n",
       "    </tr>\n",
       "    <tr>\n",
       "      <th>350</th>\n",
       "      <td>Indian Springfield</td>\n",
       "      <td>3350000</td>\n",
       "      <td>1811.0</td>\n",
       "      <td>14.0</td>\n",
       "      <td>Petrol Bike</td>\n",
       "      <td>391</td>\n",
       "      <td>https://www.carandbike.com/indian-bikes/spring...</td>\n",
       "      <td>4.193412</td>\n",
       "      <td>99.33865</td>\n",
       "    </tr>\n",
       "    <tr>\n",
       "      <th>351</th>\n",
       "      <td>Honda Gold Wing</td>\n",
       "      <td>3971822</td>\n",
       "      <td>1833.0</td>\n",
       "      <td>14.0</td>\n",
       "      <td>Petrol Bike</td>\n",
       "      <td>390</td>\n",
       "      <td>https://www.carandbike.com/honda-bikes/gold-wing</td>\n",
       "      <td>4.193412</td>\n",
       "      <td>99.33865</td>\n",
       "    </tr>\n",
       "    <tr>\n",
       "      <th>270</th>\n",
       "      <td>Indian Chieftain</td>\n",
       "      <td>3201000</td>\n",
       "      <td>1811.0</td>\n",
       "      <td>20.0</td>\n",
       "      <td>Petrol Bike</td>\n",
       "      <td>389</td>\n",
       "      <td>https://www.carandbike.com/indian-bikes/chieftain</td>\n",
       "      <td>4.193412</td>\n",
       "      <td>99.33865</td>\n",
       "    </tr>\n",
       "    <tr>\n",
       "      <th>299</th>\n",
       "      <td>Indian Chieftain Elite</td>\n",
       "      <td>3800000</td>\n",
       "      <td>1811.0</td>\n",
       "      <td>18.0</td>\n",
       "      <td>Petrol Bike</td>\n",
       "      <td>388</td>\n",
       "      <td>https://www.carandbike.com/indian-bikes/chieft...</td>\n",
       "      <td>4.193412</td>\n",
       "      <td>99.33865</td>\n",
       "    </tr>\n",
       "    <tr>\n",
       "      <th>269</th>\n",
       "      <td>Indian Chief Vintage</td>\n",
       "      <td>2532500</td>\n",
       "      <td>1811.0</td>\n",
       "      <td>20.0</td>\n",
       "      <td>Petrol Bike</td>\n",
       "      <td>379</td>\n",
       "      <td>https://www.carandbike.com/indian-bikes/chief-...</td>\n",
       "      <td>4.193412</td>\n",
       "      <td>99.33865</td>\n",
       "    </tr>\n",
       "    <tr>\n",
       "      <th>298</th>\n",
       "      <td>Indian Chieftain Dark Horse</td>\n",
       "      <td>2999000</td>\n",
       "      <td>1811.0</td>\n",
       "      <td>18.0</td>\n",
       "      <td>Petrol Bike</td>\n",
       "      <td>377</td>\n",
       "      <td>https://www.carandbike.com/indian-bikes/chieft...</td>\n",
       "      <td>4.193412</td>\n",
       "      <td>99.33865</td>\n",
       "    </tr>\n",
       "    <tr>\n",
       "      <th>333</th>\n",
       "      <td>Harley-Davidson Road Glide Special</td>\n",
       "      <td>3299000</td>\n",
       "      <td>1745.0</td>\n",
       "      <td>15.0</td>\n",
       "      <td>Petrol Bike</td>\n",
       "      <td>372</td>\n",
       "      <td>https://www.carandbike.com/harley-davidson-bik...</td>\n",
       "      <td>4.193412</td>\n",
       "      <td>99.33865</td>\n",
       "    </tr>\n",
       "  </tbody>\n",
       "</table>\n",
       "</div>"
      ],
      "text/plain": [
       "                             model_name    price      CC  mileage  \\\n",
       "337             Indian Roadmaster Elite  4800000  1811.0     15.0   \n",
       "336                   Indian Roadmaster  3900000  1811.0     15.0   \n",
       "360         Harley-Davidson CVO Limited  4999000  1923.0      8.0   \n",
       "350                  Indian Springfield  3350000  1811.0     14.0   \n",
       "351                     Honda Gold Wing  3971822  1833.0     14.0   \n",
       "270                    Indian Chieftain  3201000  1811.0     20.0   \n",
       "299              Indian Chieftain Elite  3800000  1811.0     18.0   \n",
       "269                Indian Chief Vintage  2532500  1811.0     20.0   \n",
       "298         Indian Chieftain Dark Horse  2999000  1811.0     18.0   \n",
       "333  Harley-Davidson Road Glide Special  3299000  1745.0     15.0   \n",
       "\n",
       "    type_of_bike  weight_in_kg  \\\n",
       "337  Petrol Bike           433   \n",
       "336  Petrol Bike           421   \n",
       "360  Petrol Bike           411   \n",
       "350  Petrol Bike           391   \n",
       "351  Petrol Bike           390   \n",
       "270  Petrol Bike           389   \n",
       "299  Petrol Bike           388   \n",
       "269  Petrol Bike           379   \n",
       "298  Petrol Bike           377   \n",
       "333  Petrol Bike           372   \n",
       "\n",
       "                                                 links  acceleration_speed  \\\n",
       "337  https://www.carandbike.com/indian-bikes/roadma...            4.193412   \n",
       "336  https://www.carandbike.com/indian-bikes/roadma...            4.193412   \n",
       "360  https://www.carandbike.com/harley-davidson-bik...            4.193412   \n",
       "350  https://www.carandbike.com/indian-bikes/spring...            4.193412   \n",
       "351   https://www.carandbike.com/honda-bikes/gold-wing            4.193412   \n",
       "270  https://www.carandbike.com/indian-bikes/chieftain            4.193412   \n",
       "299  https://www.carandbike.com/indian-bikes/chieft...            4.193412   \n",
       "269  https://www.carandbike.com/indian-bikes/chief-...            4.193412   \n",
       "298  https://www.carandbike.com/indian-bikes/chieft...            4.193412   \n",
       "333  https://www.carandbike.com/harley-davidson-bik...            4.193412   \n",
       "\n",
       "     top_speed  \n",
       "337   99.33865  \n",
       "336   99.33865  \n",
       "360   99.33865  \n",
       "350   99.33865  \n",
       "351   99.33865  \n",
       "270   99.33865  \n",
       "299   99.33865  \n",
       "269   99.33865  \n",
       "298   99.33865  \n",
       "333   99.33865  "
      ]
     },
     "execution_count": 40,
     "metadata": {},
     "output_type": "execute_result"
    }
   ],
   "source": [
    "df.sort_values(by='weight_in_kg',ascending=False)[:10]"
   ]
  },
  {
   "cell_type": "markdown",
   "id": "260947be",
   "metadata": {},
   "source": [
    "A moto mais pesada é a Indian Roadmaster Elite, com peso de 433 kg"
   ]
  },
  {
   "cell_type": "markdown",
   "id": "9dbbe5c6",
   "metadata": {},
   "source": [
    "Na lista top 10 das motos mais pesadas podemos perceber que a maioria é movida a gasolina, e a velocidade máxima é bem alta."
   ]
  },
  {
   "cell_type": "code",
   "execution_count": 41,
   "id": "04c4a223",
   "metadata": {},
   "outputs": [
    {
     "data": {
      "text/plain": [
       "<AxesSubplot:xlabel='top_speed', ylabel='Count'>"
      ]
     },
     "execution_count": 41,
     "metadata": {},
     "output_type": "execute_result"
    },
    {
     "data": {
      "image/png": "[encoded data removed]",
      "text/plain": [
       "<Figure size 432x288 with 1 Axes>"
      ]
     },
     "metadata": {
      "needs_background": "light"
     },
     "output_type": "display_data"
    }
   ],
   "source": [
    "sns.histplot(data = df.top_speed, kde=True)\n"
   ]
  },
  {
   "cell_type": "markdown",
   "id": "94d330cf",
   "metadata": {},
   "source": [
    "A maioria das velocidades máximas estão centradas em 100"
   ]
  },
  {
   "cell_type": "code",
   "execution_count": 43,
   "id": "055e07fd",
   "metadata": {},
   "outputs": [
    {
     "data": {
      "text/plain": [
       "<AxesSubplot:xlabel='top_speed', ylabel='Count'>"
      ]
     },
     "execution_count": 43,
     "metadata": {},
     "output_type": "execute_result"
    },
    {
     "data": {
      "image/png": "[encoded data removed]",
      "text/plain": [
       "<Figure size 432x288 with 1 Axes>"
      ]
     },
     "metadata": {
      "needs_background": "light"
     },
     "output_type": "display_data"
    }
   ],
   "source": [
    "sns.histplot(data = df,x ='top_speed',kde=True,hue='type_of_bike')\n"
   ]
  },
  {
   "cell_type": "markdown",
   "id": "6cf83f50",
   "metadata": {},
   "source": [
    "Podemos perceber no gráfico que as motos do tipo elétricas costumam ter velocidade máxima abaixo de 100, confirmando nossa hipótese levantada acima. Já as motos movids a gasolina são bem mais rápidas"
   ]
  },
  {
   "cell_type": "code",
   "execution_count": 44,
   "id": "cd13c6c1",
   "metadata": {},
   "outputs": [
    {
     "data": {
      "text/html": [
       "<div>\n",
       "<style scoped>\n",
       "    .dataframe tbody tr th:only-of-type {\n",
       "        vertical-align: middle;\n",
       "    }\n",
       "\n",
       "    .dataframe tbody tr th {\n",
       "        vertical-align: top;\n",
       "    }\n",
       "\n",
       "    .dataframe thead th {\n",
       "        text-align: right;\n",
       "    }\n",
       "</style>\n",
       "<table border=\"1\" class=\"dataframe\">\n",
       "  <thead>\n",
       "    <tr style=\"text-align: right;\">\n",
       "      <th></th>\n",
       "      <th>model_name</th>\n",
       "      <th>price</th>\n",
       "      <th>CC</th>\n",
       "      <th>mileage</th>\n",
       "      <th>type_of_bike</th>\n",
       "      <th>weight_in_kg</th>\n",
       "      <th>links</th>\n",
       "      <th>acceleration_speed</th>\n",
       "      <th>top_speed</th>\n",
       "    </tr>\n",
       "  </thead>\n",
       "  <tbody>\n",
       "    <tr>\n",
       "      <th>170</th>\n",
       "      <td>KTM RC 390</td>\n",
       "      <td>314000</td>\n",
       "      <td>373.2</td>\n",
       "      <td>35.00</td>\n",
       "      <td>Petrol Bike</td>\n",
       "      <td>147</td>\n",
       "      <td>https://www.carandbike.com/ktm-bikes/rc-390</td>\n",
       "      <td>2.24</td>\n",
       "      <td>200.0</td>\n",
       "    </tr>\n",
       "    <tr>\n",
       "      <th>195</th>\n",
       "      <td>Kawasaki Z250</td>\n",
       "      <td>308000</td>\n",
       "      <td>249.0</td>\n",
       "      <td>26.00</td>\n",
       "      <td>Petrol Bike</td>\n",
       "      <td>168</td>\n",
       "      <td>https://www.carandbike.com/kawasaki-bikes/z250</td>\n",
       "      <td>1.01</td>\n",
       "      <td>200.0</td>\n",
       "    </tr>\n",
       "    <tr>\n",
       "      <th>196</th>\n",
       "      <td>Kawasaki Ninja 300</td>\n",
       "      <td>337000</td>\n",
       "      <td>296.0</td>\n",
       "      <td>26.00</td>\n",
       "      <td>Petrol Bike</td>\n",
       "      <td>179</td>\n",
       "      <td>https://www.carandbike.com/kawasaki-bikes/ninj...</td>\n",
       "      <td>2.01</td>\n",
       "      <td>182.0</td>\n",
       "    </tr>\n",
       "    <tr>\n",
       "      <th>190</th>\n",
       "      <td>Honda CB500X</td>\n",
       "      <td>687386</td>\n",
       "      <td>471.0</td>\n",
       "      <td>28.60</td>\n",
       "      <td>Petrol Bike</td>\n",
       "      <td>199</td>\n",
       "      <td>https://www.carandbike.com/honda-bikes/cb500x</td>\n",
       "      <td>1.70</td>\n",
       "      <td>182.0</td>\n",
       "    </tr>\n",
       "    <tr>\n",
       "      <th>198</th>\n",
       "      <td>Royal Enfield Interceptor 650</td>\n",
       "      <td>281518</td>\n",
       "      <td>648.0</td>\n",
       "      <td>25.50</td>\n",
       "      <td>Petrol Bike</td>\n",
       "      <td>202</td>\n",
       "      <td>https://www.carandbike.com/royal-enfield-bikes...</td>\n",
       "      <td>1.90</td>\n",
       "      <td>170.0</td>\n",
       "    </tr>\n",
       "    <tr>\n",
       "      <th>165</th>\n",
       "      <td>KTM RC 200</td>\n",
       "      <td>213000</td>\n",
       "      <td>199.5</td>\n",
       "      <td>35.00</td>\n",
       "      <td>Petrol Bike</td>\n",
       "      <td>151</td>\n",
       "      <td>https://www.carandbike.com/ktm-bikes/rc-200</td>\n",
       "      <td>1.98</td>\n",
       "      <td>170.0</td>\n",
       "    </tr>\n",
       "    <tr>\n",
       "      <th>169</th>\n",
       "      <td>KTM 390 Duke</td>\n",
       "      <td>287545</td>\n",
       "      <td>373.2</td>\n",
       "      <td>35.00</td>\n",
       "      <td>Petrol Bike</td>\n",
       "      <td>167</td>\n",
       "      <td>https://www.carandbike.com/ktm-bikes/390-duke</td>\n",
       "      <td>2.19</td>\n",
       "      <td>167.0</td>\n",
       "    </tr>\n",
       "    <tr>\n",
       "      <th>199</th>\n",
       "      <td>Royal Enfield Continental GT 650</td>\n",
       "      <td>298079</td>\n",
       "      <td>648.0</td>\n",
       "      <td>25.50</td>\n",
       "      <td>Petrol Bike</td>\n",
       "      <td>198</td>\n",
       "      <td>https://www.carandbike.com/royal-enfield-bikes...</td>\n",
       "      <td>1.79</td>\n",
       "      <td>161.0</td>\n",
       "    </tr>\n",
       "    <tr>\n",
       "      <th>177</th>\n",
       "      <td>Benelli TRK 502</td>\n",
       "      <td>486000</td>\n",
       "      <td>500.0</td>\n",
       "      <td>30.97</td>\n",
       "      <td>Petrol Bike</td>\n",
       "      <td>235</td>\n",
       "      <td>https://www.carandbike.com/benelli-bikes/trk-502</td>\n",
       "      <td>2.00</td>\n",
       "      <td>160.0</td>\n",
       "    </tr>\n",
       "    <tr>\n",
       "      <th>188</th>\n",
       "      <td>TVS Apache RR 310</td>\n",
       "      <td>259000</td>\n",
       "      <td>312.2</td>\n",
       "      <td>30.00</td>\n",
       "      <td>Petrol Bike</td>\n",
       "      <td>170</td>\n",
       "      <td>https://www.carandbike.com/tvs-bikes/apache-rr...</td>\n",
       "      <td>2.00</td>\n",
       "      <td>160.0</td>\n",
       "    </tr>\n",
       "  </tbody>\n",
       "</table>\n",
       "</div>"
      ],
      "text/plain": [
       "                           model_name   price     CC  mileage type_of_bike  \\\n",
       "170                        KTM RC 390  314000  373.2    35.00  Petrol Bike   \n",
       "195                     Kawasaki Z250  308000  249.0    26.00  Petrol Bike   \n",
       "196                Kawasaki Ninja 300  337000  296.0    26.00  Petrol Bike   \n",
       "190                      Honda CB500X  687386  471.0    28.60  Petrol Bike   \n",
       "198     Royal Enfield Interceptor 650  281518  648.0    25.50  Petrol Bike   \n",
       "165                        KTM RC 200  213000  199.5    35.00  Petrol Bike   \n",
       "169                      KTM 390 Duke  287545  373.2    35.00  Petrol Bike   \n",
       "199  Royal Enfield Continental GT 650  298079  648.0    25.50  Petrol Bike   \n",
       "177                   Benelli TRK 502  486000  500.0    30.97  Petrol Bike   \n",
       "188                 TVS Apache RR 310  259000  312.2    30.00  Petrol Bike   \n",
       "\n",
       "     weight_in_kg                                              links  \\\n",
       "170           147        https://www.carandbike.com/ktm-bikes/rc-390   \n",
       "195           168     https://www.carandbike.com/kawasaki-bikes/z250   \n",
       "196           179  https://www.carandbike.com/kawasaki-bikes/ninj...   \n",
       "190           199      https://www.carandbike.com/honda-bikes/cb500x   \n",
       "198           202  https://www.carandbike.com/royal-enfield-bikes...   \n",
       "165           151        https://www.carandbike.com/ktm-bikes/rc-200   \n",
       "169           167      https://www.carandbike.com/ktm-bikes/390-duke   \n",
       "199           198  https://www.carandbike.com/royal-enfield-bikes...   \n",
       "177           235   https://www.carandbike.com/benelli-bikes/trk-502   \n",
       "188           170  https://www.carandbike.com/tvs-bikes/apache-rr...   \n",
       "\n",
       "     acceleration_speed  top_speed  \n",
       "170                2.24      200.0  \n",
       "195                1.01      200.0  \n",
       "196                2.01      182.0  \n",
       "190                1.70      182.0  \n",
       "198                1.90      170.0  \n",
       "165                1.98      170.0  \n",
       "169                2.19      167.0  \n",
       "199                1.79      161.0  \n",
       "177                2.00      160.0  \n",
       "188                2.00      160.0  "
      ]
     },
     "execution_count": 44,
     "metadata": {},
     "output_type": "execute_result"
    }
   ],
   "source": [
    "df.sort_values(by='top_speed',ascending=False)[:10]"
   ]
  },
  {
   "cell_type": "markdown",
   "id": "95c2ae07",
   "metadata": {},
   "source": [
    "A moto com maior velocidade máxima é a KTM RC 390, alcançando 200"
   ]
  },
  {
   "cell_type": "code",
   "execution_count": 45,
   "id": "a73e2617",
   "metadata": {},
   "outputs": [
    {
     "data": {
      "text/plain": [
       "<AxesSubplot:xlabel='mileage', ylabel='Count'>"
      ]
     },
     "execution_count": 45,
     "metadata": {},
     "output_type": "execute_result"
    },
    {
     "data": {
      "image/png": "[encoded data removed]",
      "text/plain": [
       "<Figure size 432x288 with 1 Axes>"
      ]
     },
     "metadata": {
      "needs_background": "light"
     },
     "output_type": "display_data"
    }
   ],
   "source": [
    "sns.histplot(data = df.mileage, kde=True)\n"
   ]
  },
  {
   "cell_type": "markdown",
   "id": "f9d03e6d",
   "metadata": {},
   "source": [
    "A maioria das kilometragens das motos estão centradas entre 0 e 50."
   ]
  },
  {
   "cell_type": "code",
   "execution_count": 50,
   "id": "94c92df8",
   "metadata": {},
   "outputs": [
    {
     "data": {
      "text/plain": [
       "<AxesSubplot:xlabel='mileage', ylabel='Count'>"
      ]
     },
     "execution_count": 50,
     "metadata": {},
     "output_type": "execute_result"
    },
    {
     "data": {
      "image/png": "[encoded data removed]",
      "text/plain": [
       "<Figure size 432x288 with 1 Axes>"
      ]
     },
     "metadata": {
      "needs_background": "light"
     },
     "output_type": "display_data"
    }
   ],
   "source": [
    "sns.histplot(data = df,x ='mileage',kde=True,hue='type_of_bike')\n"
   ]
  },
  {
   "cell_type": "markdown",
   "id": "5319de25",
   "metadata": {},
   "source": [
    "Pode-se perceber que há difereça de quilometragem entre os tipos de motos. Sendo que as movidas a gasolina tem quilometragem abaixo de 50. Já as elétricas estão bem mais disperças os valores."
   ]
  },
  {
   "cell_type": "code",
   "execution_count": 51,
   "id": "9ac7193f",
   "metadata": {},
   "outputs": [
    {
     "data": {
      "text/plain": [
       "<AxesSubplot:xlabel='price', ylabel='Count'>"
      ]
     },
     "execution_count": 51,
     "metadata": {},
     "output_type": "execute_result"
    },
    {
     "data": {
      "image/png": "[encoded data removed]",
      "text/plain": [
       "<Figure size 432x288 with 1 Axes>"
      ]
     },
     "metadata": {
      "needs_background": "light"
     },
     "output_type": "display_data"
    }
   ],
   "source": [
    "sns.histplot(data = df,x ='price',kde=True,hue='type_of_bike')\n"
   ]
  },
  {
   "cell_type": "code",
   "execution_count": 52,
   "id": "1825ed47",
   "metadata": {},
   "outputs": [
    {
     "data": {
      "text/plain": [
       "<AxesSubplot:xlabel='price', ylabel='type_of_bike'>"
      ]
     },
     "execution_count": 52,
     "metadata": {},
     "output_type": "execute_result"
    },
    {
     "data": {
      "image/png": "[encoded data removed]",
      "text/plain": [
       "<Figure size 432x288 with 1 Axes>"
      ]
     },
     "metadata": {
      "needs_background": "light"
     },
     "output_type": "display_data"
    }
   ],
   "source": [
    "sns.boxplot(data=df, x=\"price\", y=\"type_of_bike\")\n",
    "\n"
   ]
  },
  {
   "cell_type": "markdown",
   "id": "8908f339",
   "metadata": {},
   "source": [
    "Podemos perceber que há diferença de preços entre as motos elétricas e as de gasolina. Sendo essa ultima a que tende a ter os valores mais caros. Além disso podemos perceber a presença de outliers na variável preço"
   ]
  },
  {
   "cell_type": "code",
   "execution_count": 53,
   "id": "50b88ffc",
   "metadata": {},
   "outputs": [
    {
     "data": {
      "text/plain": [
       "Index(['model_name', 'price', 'CC', 'mileage', 'type_of_bike', 'weight_in_kg',\n",
       "       'links', 'acceleration_speed', 'top_speed'],\n",
       "      dtype='object')"
      ]
     },
     "execution_count": 53,
     "metadata": {},
     "output_type": "execute_result"
    }
   ],
   "source": [
    "df.columns"
   ]
  },
  {
   "cell_type": "code",
   "execution_count": 54,
   "id": "b90c5e10",
   "metadata": {},
   "outputs": [
    {
     "data": {
      "text/plain": [
       "Text(0.5, 1.05, 'Disperção entre as variaveis')"
      ]
     },
     "execution_count": 54,
     "metadata": {},
     "output_type": "execute_result"
    },
    {
     "data": {
      "image/png": "[encoded data removed]",
      "text/plain": [
       "<Figure size 720x180 with 4 Axes>"
      ]
     },
     "metadata": {
      "needs_background": "light"
     },
     "output_type": "display_data"
    }
   ],
   "source": [
    "ax = sns.pairplot(df,y_vars='price',x_vars=['top_speed','mileage','weight_in_kg','acceleration_speed'])\n",
    "ax.fig.suptitle('Disperção entre as variaveis',y=1.05)"
   ]
  },
  {
   "cell_type": "markdown",
   "id": "f1f4cf07",
   "metadata": {},
   "source": [
    "Podemos perceber que as motos mais pesadas costumam ter um aumento no valor do preço final"
   ]
  },
  {
   "cell_type": "markdown",
   "id": "22f4c318",
   "metadata": {},
   "source": [
    "Já nas outras variáveis fica mais dificil de encontrar essa relação. Levantando o ponto que o tipo de moto tem influencia no comportamento dessa variável portanto devem ser analisadas separadamente"
   ]
  },
  {
   "cell_type": "code",
   "execution_count": 56,
   "id": "751aa8e3",
   "metadata": {},
   "outputs": [
    {
     "data": {
      "text/plain": [
       "array(['Electric Bike', 'Petrol Bike'], dtype=object)"
      ]
     },
     "execution_count": 56,
     "metadata": {},
     "output_type": "execute_result"
    }
   ],
   "source": [
    "df.type_of_bike.unique()"
   ]
  },
  {
   "cell_type": "code",
   "execution_count": 57,
   "id": "6dfa4a66",
   "metadata": {},
   "outputs": [],
   "source": [
    "df_gasolina = df[df.type_of_bike == 'Petrol Bike']\n",
    "df_eletrica = df[df.type_of_bike == 'Electric Bike']"
   ]
  },
  {
   "cell_type": "code",
   "execution_count": 58,
   "id": "5c0d9c34",
   "metadata": {},
   "outputs": [
    {
     "data": {
      "text/plain": [
       "Text(0.5, 1.05, 'Disperção entre as variaveis')"
      ]
     },
     "execution_count": 58,
     "metadata": {},
     "output_type": "execute_result"
    },
    {
     "data": {
      "image/png": "[encoded data removed]",
      "text/plain": [
       "<Figure size 720x180 with 4 Axes>"
      ]
     },
     "metadata": {
      "needs_background": "light"
     },
     "output_type": "display_data"
    }
   ],
   "source": [
    "ax = sns.pairplot(df_gasolina,y_vars='price',x_vars=['top_speed','mileage','weight_in_kg','acceleration_speed'])\n",
    "ax.fig.suptitle('Disperção entre as variaveis',y=1.05)"
   ]
  },
  {
   "cell_type": "markdown",
   "id": "ef83fcc5",
   "metadata": {},
   "source": [
    "Para as motos movidas a gasolina está mais dificil de indentificar as variáveis que impactam no preço da moto, tirando a variável peso.\n",
    "\n"
   ]
  },
  {
   "cell_type": "markdown",
   "id": "5f6e538e",
   "metadata": {},
   "source": [
    "Um ponto que podemos observar é que motos com quilometragem abaixo de 25 tendem a ter um aumento no preço. Já motos com alta quilometragem costuma ser mais baratas."
   ]
  },
  {
   "cell_type": "code",
   "execution_count": 59,
   "id": "b7456d7f",
   "metadata": {},
   "outputs": [
    {
     "data": {
      "text/plain": [
       "Text(0.5, 1.05, 'Disperção entre as variaveis')"
      ]
     },
     "execution_count": 59,
     "metadata": {},
     "output_type": "execute_result"
    },
    {
     "data": {
      "image/png": "[encoded data removed]",
      "text/plain": [
       "<Figure size 720x180 with 4 Axes>"
      ]
     },
     "metadata": {
      "needs_background": "light"
     },
     "output_type": "display_data"
    }
   ],
   "source": [
    "ax = sns.pairplot(df_eletrica,y_vars='price',x_vars=['top_speed','mileage','weight_in_kg','acceleration_speed'])\n",
    "ax.fig.suptitle('Disperção entre as variaveis',y=1.05)"
   ]
  },
  {
   "cell_type": "markdown",
   "id": "5e570755",
   "metadata": {},
   "source": [
    "Nas bikes elétricas pode-se perceber que conforme aumenta a velocidade máxima maior é o preço da moto.\n",
    "Para a quilometragem para carga completa podemos tirar o mesmo insight, conforme aumenta a quilometragem maior tende a ser o preço final"
   ]
  },
  {
   "cell_type": "markdown",
   "id": "dc0d911d",
   "metadata": {},
   "source": [
    "O mesmo insight se aplica ao peso da moto elétrica"
   ]
  },
  {
   "cell_type": "markdown",
   "id": "0e83e62f",
   "metadata": {},
   "source": [
    "<div style=\"text-align:right;\">\n",
    "Laura Damacenode Almeida\n",
    "    <br>\n"
   ]
  },
  {
   "cell_type": "code",
   "execution_count": null,
   "id": "a89a8ae4",
   "metadata": {},
   "outputs": [],
   "source": []
  }
 ],
 "metadata": {
  "kernelspec": {
   "display_name": "Python 3 (ipykernel)",
   "language": "python",
   "name": "python3"
  },
  "language_info": {
   "codemirror_mode": {
    "name": "ipython",
    "version": 3
   },
   "file_extension": ".py",
   "mimetype": "text/x-python",
   "name": "python",
   "nbconvert_exporter": "python",
   "pygments_lexer": "ipython3",
   "version": "3.9.12"
  }
 },
 "nbformat": 4,
 "nbformat_minor": 5
}
